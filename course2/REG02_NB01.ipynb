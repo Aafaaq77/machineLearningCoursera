{
  "nbformat": 4,
  "nbformat_minor": 0,
  "metadata": {
    "colab": {
      "name": " REG02-NB01.ipynb",
      "provenance": [],
      "authorship_tag": "ABX9TyM0qu5nO8imfWgz6BaYiJdi",
      "include_colab_link": true
    },
    "kernelspec": {
      "name": "python3",
      "display_name": "Python 3"
    },
    "language_info": {
      "name": "python"
    }
  },
  "cells": [
    {
      "cell_type": "markdown",
      "metadata": {
        "id": "view-in-github",
        "colab_type": "text"
      },
      "source": [
        "<a href=\"https://colab.research.google.com/github/Aafaaq77/machineLearningCoursera/blob/main/course2/REG02_NB01.ipynb\" target=\"_parent\"><img src=\"https://colab.research.google.com/assets/colab-badge.svg\" alt=\"Open In Colab\"/></a>"
      ]
    },
    {
      "cell_type": "markdown",
      "metadata": {
        "id": "V1TrVpANttxZ"
      },
      "source": [
        "# Regression Week 2: Multiple Regression (Interpretation)\n",
        "\n",
        "The goal of this first notebook is to explore multiple regression and feature engineering with existing Turi Create (numpy/pandas/sklearn) functions.\n",
        "\n",
        "In this notebook you will use data on house sales in King County to predict prices using multiple regression. You will:\n",
        "* Use SFrames (pandas instead) to do some feature engineering\n",
        "* Use built-in Turi Create functions (numpy(pandas) to compute the regression weights (coefficients/parameters)\n",
        "* Given the regression weights, predictors and outcome write a function to compute the Residual Sum of Squares\n",
        "* Look at coefficients and interpret their meanings\n",
        "* Evaluate multiple models via RSS"
      ]
    },
    {
      "cell_type": "code",
      "metadata": {
        "id": "fns0XruutGyh"
      },
      "source": [
        "import numpy as np\n",
        "import pandas as pd"
      ],
      "execution_count": 1,
      "outputs": []
    },
    {
      "cell_type": "markdown",
      "metadata": {
        "id": "i9ubjDGWtbMi"
      },
      "source": [
        "### After importing the libraries, reading in the house data set.\n",
        "\n",
        "Dataset is from house sales in King County, the region where the city of Seattle, WA is located."
      ]
    },
    {
      "cell_type": "code",
      "metadata": {
        "colab": {
          "base_uri": "https://localhost:8080/",
          "height": 255
        },
        "id": "vdxZdOSIuQwq",
        "outputId": "391a716f-667c-4e59-a4f3-95692f9825b5"
      },
      "source": [
        "dtype_dict = {'bathrooms':float, 'waterfront':int, 'sqft_above':int, \n",
        "              'sqft_living15':float, 'grade':int, 'yr_renovated':int, \n",
        "              'price':float, 'bedrooms':float, 'zipcode':str, 'long':float, \n",
        "              'sqft_lot15':float, 'sqft_living':float, 'floors':str, \n",
        "              'condition':int, 'lat':float, 'date':str, 'sqft_basement':int, \n",
        "              'yr_built':int, 'id':str, 'sqft_lot':int, 'view':int}\n",
        "\n",
        "sales = pd.read_csv('kc_house_data.csv', dtype=dtype_dict, index_col=0)\n",
        "sales.head()"
      ],
      "execution_count": 4,
      "outputs": [
        {
          "output_type": "execute_result",
          "data": {
            "text/html": [
              "<div>\n",
              "<style scoped>\n",
              "    .dataframe tbody tr th:only-of-type {\n",
              "        vertical-align: middle;\n",
              "    }\n",
              "\n",
              "    .dataframe tbody tr th {\n",
              "        vertical-align: top;\n",
              "    }\n",
              "\n",
              "    .dataframe thead th {\n",
              "        text-align: right;\n",
              "    }\n",
              "</style>\n",
              "<table border=\"1\" class=\"dataframe\">\n",
              "  <thead>\n",
              "    <tr style=\"text-align: right;\">\n",
              "      <th></th>\n",
              "      <th>date</th>\n",
              "      <th>price</th>\n",
              "      <th>bedrooms</th>\n",
              "      <th>bathrooms</th>\n",
              "      <th>sqft_living</th>\n",
              "      <th>sqft_lot</th>\n",
              "      <th>floors</th>\n",
              "      <th>waterfront</th>\n",
              "      <th>view</th>\n",
              "      <th>condition</th>\n",
              "      <th>grade</th>\n",
              "      <th>sqft_above</th>\n",
              "      <th>sqft_basement</th>\n",
              "      <th>yr_built</th>\n",
              "      <th>yr_renovated</th>\n",
              "      <th>zipcode</th>\n",
              "      <th>lat</th>\n",
              "      <th>long</th>\n",
              "      <th>sqft_living15</th>\n",
              "      <th>sqft_lot15</th>\n",
              "    </tr>\n",
              "    <tr>\n",
              "      <th>id</th>\n",
              "      <th></th>\n",
              "      <th></th>\n",
              "      <th></th>\n",
              "      <th></th>\n",
              "      <th></th>\n",
              "      <th></th>\n",
              "      <th></th>\n",
              "      <th></th>\n",
              "      <th></th>\n",
              "      <th></th>\n",
              "      <th></th>\n",
              "      <th></th>\n",
              "      <th></th>\n",
              "      <th></th>\n",
              "      <th></th>\n",
              "      <th></th>\n",
              "      <th></th>\n",
              "      <th></th>\n",
              "      <th></th>\n",
              "      <th></th>\n",
              "    </tr>\n",
              "  </thead>\n",
              "  <tbody>\n",
              "    <tr>\n",
              "      <th>7129300520</th>\n",
              "      <td>20141013T000000</td>\n",
              "      <td>221900.0</td>\n",
              "      <td>3.0</td>\n",
              "      <td>1.00</td>\n",
              "      <td>1180.0</td>\n",
              "      <td>5650</td>\n",
              "      <td>1</td>\n",
              "      <td>0</td>\n",
              "      <td>0</td>\n",
              "      <td>3</td>\n",
              "      <td>7</td>\n",
              "      <td>1180</td>\n",
              "      <td>0</td>\n",
              "      <td>1955</td>\n",
              "      <td>0</td>\n",
              "      <td>98178</td>\n",
              "      <td>47.5112</td>\n",
              "      <td>-122.257</td>\n",
              "      <td>1340.0</td>\n",
              "      <td>5650.0</td>\n",
              "    </tr>\n",
              "    <tr>\n",
              "      <th>6414100192</th>\n",
              "      <td>20141209T000000</td>\n",
              "      <td>538000.0</td>\n",
              "      <td>3.0</td>\n",
              "      <td>2.25</td>\n",
              "      <td>2570.0</td>\n",
              "      <td>7242</td>\n",
              "      <td>2</td>\n",
              "      <td>0</td>\n",
              "      <td>0</td>\n",
              "      <td>3</td>\n",
              "      <td>7</td>\n",
              "      <td>2170</td>\n",
              "      <td>400</td>\n",
              "      <td>1951</td>\n",
              "      <td>1991</td>\n",
              "      <td>98125</td>\n",
              "      <td>47.7210</td>\n",
              "      <td>-122.319</td>\n",
              "      <td>1690.0</td>\n",
              "      <td>7639.0</td>\n",
              "    </tr>\n",
              "    <tr>\n",
              "      <th>5631500400</th>\n",
              "      <td>20150225T000000</td>\n",
              "      <td>180000.0</td>\n",
              "      <td>2.0</td>\n",
              "      <td>1.00</td>\n",
              "      <td>770.0</td>\n",
              "      <td>10000</td>\n",
              "      <td>1</td>\n",
              "      <td>0</td>\n",
              "      <td>0</td>\n",
              "      <td>3</td>\n",
              "      <td>6</td>\n",
              "      <td>770</td>\n",
              "      <td>0</td>\n",
              "      <td>1933</td>\n",
              "      <td>0</td>\n",
              "      <td>98028</td>\n",
              "      <td>47.7379</td>\n",
              "      <td>-122.233</td>\n",
              "      <td>2720.0</td>\n",
              "      <td>8062.0</td>\n",
              "    </tr>\n",
              "    <tr>\n",
              "      <th>2487200875</th>\n",
              "      <td>20141209T000000</td>\n",
              "      <td>604000.0</td>\n",
              "      <td>4.0</td>\n",
              "      <td>3.00</td>\n",
              "      <td>1960.0</td>\n",
              "      <td>5000</td>\n",
              "      <td>1</td>\n",
              "      <td>0</td>\n",
              "      <td>0</td>\n",
              "      <td>5</td>\n",
              "      <td>7</td>\n",
              "      <td>1050</td>\n",
              "      <td>910</td>\n",
              "      <td>1965</td>\n",
              "      <td>0</td>\n",
              "      <td>98136</td>\n",
              "      <td>47.5208</td>\n",
              "      <td>-122.393</td>\n",
              "      <td>1360.0</td>\n",
              "      <td>5000.0</td>\n",
              "    </tr>\n",
              "    <tr>\n",
              "      <th>1954400510</th>\n",
              "      <td>20150218T000000</td>\n",
              "      <td>510000.0</td>\n",
              "      <td>3.0</td>\n",
              "      <td>2.00</td>\n",
              "      <td>1680.0</td>\n",
              "      <td>8080</td>\n",
              "      <td>1</td>\n",
              "      <td>0</td>\n",
              "      <td>0</td>\n",
              "      <td>3</td>\n",
              "      <td>8</td>\n",
              "      <td>1680</td>\n",
              "      <td>0</td>\n",
              "      <td>1987</td>\n",
              "      <td>0</td>\n",
              "      <td>98074</td>\n",
              "      <td>47.6168</td>\n",
              "      <td>-122.045</td>\n",
              "      <td>1800.0</td>\n",
              "      <td>7503.0</td>\n",
              "    </tr>\n",
              "  </tbody>\n",
              "</table>\n",
              "</div>"
            ],
            "text/plain": [
              "                       date     price  ...  sqft_living15  sqft_lot15\n",
              "id                                     ...                           \n",
              "7129300520  20141013T000000  221900.0  ...         1340.0      5650.0\n",
              "6414100192  20141209T000000  538000.0  ...         1690.0      7639.0\n",
              "5631500400  20150225T000000  180000.0  ...         2720.0      8062.0\n",
              "2487200875  20141209T000000  604000.0  ...         1360.0      5000.0\n",
              "1954400510  20150218T000000  510000.0  ...         1800.0      7503.0\n",
              "\n",
              "[5 rows x 20 columns]"
            ]
          },
          "metadata": {
            "tags": []
          },
          "execution_count": 4
        }
      ]
    },
    {
      "cell_type": "markdown",
      "metadata": {
        "id": "lNerR0CXuwU5"
      },
      "source": [
        "## Split data into training and testing."
      ]
    },
    {
      "cell_type": "code",
      "metadata": {
        "id": "L6C9AYcgucpC"
      },
      "source": [
        "# normally\n",
        "# X_train, X_test, y_train, y_test = train_test_split(X, y, test_size=0.2)\n",
        "# but for the quiz I will be using the training and testing data provided\n",
        "train_data = pd.read_csv('kc_house_train_data.csv', dtype=dtype_dict, index_col=0)\n",
        "test_data = pd.read_csv('kc_house_test_data.csv', dtype=dtype_dict, index_col=0)"
      ],
      "execution_count": 5,
      "outputs": []
    },
    {
      "cell_type": "markdown",
      "metadata": {
        "id": "QuP8b2GAvPVz"
      },
      "source": [
        "## Learning a multiple regression model\n",
        "\n",
        "Recall we can use the following code to learn a multiple regression model predicting 'price' based on the following features:\n",
        "example_features = ['sqft_living', 'bedrooms', 'bathrooms'] on training data with the following code:"
      ]
    },
    {
      "cell_type": "code",
      "metadata": {
        "id": "envYRun1v1gl"
      },
      "source": [
        "from sklearn.linear_model import LinearRegression"
      ],
      "execution_count": 6,
      "outputs": []
    },
    {
      "cell_type": "code",
      "metadata": {
        "id": "UBTKVDhAvG0n"
      },
      "source": [
        "example_features = ['sqft_living', 'bedrooms', 'bathrooms']\n",
        "example_model = LinearRegression()"
      ],
      "execution_count": 7,
      "outputs": []
    },
    {
      "cell_type": "code",
      "metadata": {
        "colab": {
          "base_uri": "https://localhost:8080/"
        },
        "id": "FuivCpWmwGjL",
        "outputId": "f225c536-b9fc-4436-f6dd-4c0f8b308eee"
      },
      "source": [
        "example_model.fit(train_data[example_features], train_data['price'])"
      ],
      "execution_count": 8,
      "outputs": [
        {
          "output_type": "execute_result",
          "data": {
            "text/plain": [
              "LinearRegression(copy_X=True, fit_intercept=True, n_jobs=None, normalize=False)"
            ]
          },
          "metadata": {
            "tags": []
          },
          "execution_count": 8
        }
      ]
    },
    {
      "cell_type": "code",
      "metadata": {
        "colab": {
          "base_uri": "https://localhost:8080/"
        },
        "id": "6asgtkdqwa2o",
        "outputId": "79436a43-e476-4b88-913c-6e948b43e555"
      },
      "source": [
        "preds = example_model.predict(test_data[example_features])\n",
        "example_model.coef_"
      ],
      "execution_count": 10,
      "outputs": [
        {
          "output_type": "execute_result",
          "data": {
            "text/plain": [
              "array([   315.40669062, -65081.88711588,   6942.16598637])"
            ]
          },
          "metadata": {
            "tags": []
          },
          "execution_count": 10
        }
      ]
    },
    {
      "cell_type": "code",
      "metadata": {
        "colab": {
          "base_uri": "https://localhost:8080/"
        },
        "id": "-BAK2Cziwzra",
        "outputId": "96dcd95e-2338-4acd-b43c-157e56398b51"
      },
      "source": [
        "preds[0]"
      ],
      "execution_count": 11,
      "outputs": [
        {
          "output_type": "execute_result",
          "data": {
            "text/plain": [
              "350640.93803383986"
            ]
          },
          "metadata": {
            "tags": []
          },
          "execution_count": 11
        }
      ]
    },
    {
      "cell_type": "markdown",
      "metadata": {
        "id": "loA9dMIBxGgh"
      },
      "source": [
        "## Compute RSS.\n",
        "\n",
        "Now that we can make predictions given the model, let's write a function to compute the RSS of the model. Complete the function below to calculate RSS given the model, data, and the outcome."
      ]
    },
    {
      "cell_type": "code",
      "metadata": {
        "id": "j8-gwf4Mw-A7"
      },
      "source": [
        "def get_residual_sum_of_squares(model, data, outcome):\n",
        "    # First get the predictions\n",
        "    predictions = model.predict(data)\n",
        "    # Then compute the residuals/errors\n",
        "    errors = outcome - predictions\n",
        "    # Then square and add them up\n",
        "    RSS = np.sum(errors*errors)\n",
        "    return(RSS)  "
      ],
      "execution_count": 15,
      "outputs": []
    },
    {
      "cell_type": "code",
      "metadata": {
        "colab": {
          "base_uri": "https://localhost:8080/"
        },
        "id": "SMihGFsBHOnp",
        "outputId": "f64d8825-24a9-43a1-9c5c-b54057988b61"
      },
      "source": [
        "rss_example_train = get_residual_sum_of_squares(example_model, test_data[example_features], test_data['price'])\n",
        "rss_example_train"
      ],
      "execution_count": 16,
      "outputs": [
        {
          "output_type": "execute_result",
          "data": {
            "text/plain": [
              "273761940583133.75"
            ]
          },
          "metadata": {
            "tags": []
          },
          "execution_count": 16
        }
      ]
    },
    {
      "cell_type": "markdown",
      "metadata": {
        "id": "nN-WbwttKyXm"
      },
      "source": [
        "## Create some new features\n",
        "\n",
        "Although we often think of multiple regression as including multiple different features (e.g. # of bedrooms, squarefeet, and # of bathrooms) but we can also consider transformations of existing features e.g. the log of the squarefeet or even \"interaction\" features such as the product of bedrooms and bathrooms.\n",
        "\n",
        "You will use the logarithm function to create a new feature. so first you should import it from the math library."
      ]
    },
    {
      "cell_type": "markdown",
      "metadata": {
        "id": "aboLJBCUK_aV"
      },
      "source": [
        "Next create the following 4 new features as column in both TEST and TRAIN data:\n",
        "* bedrooms_squared = bedrooms\\*bedrooms\n",
        "* bed_bath_rooms = bedrooms\\*bathrooms\n",
        "* log_sqft_living = log(sqft_living)\n",
        "* lat_plus_long = lat + long "
      ]
    },
    {
      "cell_type": "code",
      "metadata": {
        "id": "it9aUmGrK-ne"
      },
      "source": [
        "# bedrooms_squared = bedrooms*bedrooms\n",
        "train_data['bedrooms_squared'] = train_data['bedrooms'] * train_data['bedrooms']\n",
        "test_data['bedrooms_squared'] = test_data['bedrooms'] * test_data['bedrooms']\n",
        "\n",
        "# bed_bath_rooms = bedrooms*bathrooms\n",
        "train_data['bed_bath_rooms'] = train_data['bedrooms'] * train_data['bathrooms']\n",
        "test_data['bed_bath_rooms'] = test_data['bedrooms'] * test_data['bathrooms']\n",
        "\n",
        "# log_sqft_living = log(sqft_living)\n",
        "train_data['log_sqft_living'] = np.log(train_data['sqft_living'])\n",
        "test_data['log_sqft_living'] = np.log(test_data['sqft_living'])\n",
        "\n",
        "# lat_plus_long = lat + long\n",
        "train_data['lat_plus_long'] = train_data['lat'] + train_data['long']\n",
        "test_data['lat_plus_long'] = test_data['lat'] + test_data['long']"
      ],
      "execution_count": 23,
      "outputs": []
    },
    {
      "cell_type": "code",
      "metadata": {
        "colab": {
          "base_uri": "https://localhost:8080/"
        },
        "id": "7Zqpg1MAPTsc",
        "outputId": "95c98bf8-e5a5-4cac-c7c1-b6dea0176312"
      },
      "source": [
        "print(log(3))\n",
        "print(np.log(3))"
      ],
      "execution_count": 22,
      "outputs": [
        {
          "output_type": "stream",
          "text": [
            "1.0986122886681098\n",
            "1.0986122886681098\n"
          ],
          "name": "stdout"
        }
      ]
    },
    {
      "cell_type": "markdown",
      "metadata": {
        "id": "KjU6VGWlQbC0"
      },
      "source": [
        "* Squaring bedrooms will increase the separation between not many bedrooms (e.g. 1) and lots of bedrooms (e.g. 4) since 1^2 = 1 but 4^2 = 16. Consequently this feature will mostly affect houses with many bedrooms.\n",
        "* bedrooms times bathrooms gives what's called an \"interaction\" feature. It is large when *both* of them are large.\n",
        "* Taking the log of squarefeet has the effect of bringing large values closer together and spreading out small values.\n",
        "* Adding latitude to longitude is totally non-sensical but we will do it anyway (you'll see why)"
      ]
    },
    {
      "cell_type": "markdown",
      "metadata": {
        "id": "W-Qzvf-eQhhJ"
      },
      "source": [
        "**Quiz Question: What is the mean (arithmetic average) value of your 4 new features on TEST data? (round to 2 digits)**"
      ]
    },
    {
      "cell_type": "code",
      "metadata": {
        "colab": {
          "base_uri": "https://localhost:8080/"
        },
        "id": "-I7SpjsBPfpV",
        "outputId": "9e3a1a2d-341e-4ec3-ef2d-d52c2f772595"
      },
      "source": [
        "print('mean of bedrooms_squared: ', test_data['bedrooms_squared'].mean())\n",
        "print('mean of bed_bathrooms: ', test_data['bed_bath_rooms'].mean())\n",
        "print('mean of log_sqft_living: ', test_data['log_sqft_living'].mean())\n",
        "print('mean of lat+long: ', test_data['lat_plus_long'].mean())"
      ],
      "execution_count": 24,
      "outputs": [
        {
          "output_type": "stream",
          "text": [
            "mean of bedrooms_squared:  12.4466777015843\n",
            "mean of bed_bathrooms:  7.5039016315913925\n",
            "mean of log_sqft_living:  7.550274679645921\n",
            "mean of lat+long:  -74.65333355403185\n"
          ],
          "name": "stdout"
        }
      ]
    },
    {
      "cell_type": "markdown",
      "metadata": {
        "id": "Rz0i9Y7uUp4s"
      },
      "source": [
        "# Learning Multiple Models\n",
        "\n",
        "Now we will learn the weights for three (nested) models for predicting house prices. The first model will have the fewest features the second model will add one more feature and the third will add a few more:\n",
        "* Model 1: squarefeet, # bedrooms, # bathrooms, latitude & longitude\n",
        "* Model 2: add bedrooms\\*bathrooms\n",
        "* Model 3: Add log squarefeet, bedrooms squared, and the (nonsensical) latitude + longitude"
      ]
    },
    {
      "cell_type": "code",
      "metadata": {
        "id": "HLNRUCX-RR0h"
      },
      "source": [
        "model_1_features = ['sqft_living', 'bedrooms', 'bathrooms', 'lat', 'long']\n",
        "model_2_features = model_1_features + ['bed_bath_rooms']\n",
        "model_3_features = model_2_features + ['bedrooms_squared', 'log_sqft_living', 'lat_plus_long']"
      ],
      "execution_count": 25,
      "outputs": []
    },
    {
      "cell_type": "code",
      "metadata": {
        "id": "544muLfeU6uU"
      },
      "source": [
        "model_1 = LinearRegression()\n",
        "model_2 = LinearRegression()\n",
        "model_3 = LinearRegression()"
      ],
      "execution_count": 26,
      "outputs": []
    },
    {
      "cell_type": "code",
      "metadata": {
        "colab": {
          "base_uri": "https://localhost:8080/"
        },
        "id": "d_5uNDblVK6h",
        "outputId": "200002e5-5e85-4882-ebdd-9a4fc600437f"
      },
      "source": [
        "model_1.fit(train_data[model_1_features], train_data['price'])\n",
        "model_2.fit(train_data[model_2_features], train_data['price'])\n",
        "model_3.fit(train_data[model_3_features], train_data['price'])"
      ],
      "execution_count": 27,
      "outputs": [
        {
          "output_type": "execute_result",
          "data": {
            "text/plain": [
              "LinearRegression(copy_X=True, fit_intercept=True, n_jobs=None, normalize=False)"
            ]
          },
          "metadata": {
            "tags": []
          },
          "execution_count": 27
        }
      ]
    },
    {
      "cell_type": "markdown",
      "metadata": {
        "id": "kswLhsMUWV4n"
      },
      "source": [
        "**Quiz Question: What is the sign (positive or negative) for the coefficient/weight for 'bathrooms' in model 1?**\n",
        "\n",
        "**Quiz Question: What is the sign (positive or negative) for the coefficient/weight for 'bathrooms' in model 2?**"
      ]
    },
    {
      "cell_type": "code",
      "metadata": {
        "colab": {
          "base_uri": "https://localhost:8080/"
        },
        "id": "u17v7GZnV-E5",
        "outputId": "c83cdfac-5c40-4440-b47e-6c2f509326dc"
      },
      "source": [
        "model_1.coef_"
      ],
      "execution_count": 28,
      "outputs": [
        {
          "output_type": "execute_result",
          "data": {
            "text/plain": [
              "array([ 3.12258646e+02, -5.95865332e+04,  1.57067421e+04,  6.58619264e+05,\n",
              "       -3.09374351e+05])"
            ]
          },
          "metadata": {
            "tags": []
          },
          "execution_count": 28
        }
      ]
    },
    {
      "cell_type": "code",
      "metadata": {
        "colab": {
          "base_uri": "https://localhost:8080/"
        },
        "id": "z-Hh3n4aWICv",
        "outputId": "3e0b941a-8e58-4a78-a6fa-51d662956106"
      },
      "source": [
        "model_2.coef_[2]"
      ],
      "execution_count": 29,
      "outputs": [
        {
          "output_type": "execute_result",
          "data": {
            "text/plain": [
              "-71461.30829275973"
            ]
          },
          "metadata": {
            "tags": []
          },
          "execution_count": 29
        }
      ]
    },
    {
      "cell_type": "markdown",
      "metadata": {
        "id": "nDtQe8meWizt"
      },
      "source": [
        "# Comparing multiple models\n",
        "\n",
        "Now that you've learned three models and extracted the model weights we want to evaluate which model is best.\n",
        "\n",
        "First use your functions from earlier to compute the RSS on TRAINING Data for each of the three models."
      ]
    },
    {
      "cell_type": "code",
      "metadata": {
        "colab": {
          "base_uri": "https://localhost:8080/"
        },
        "id": "XKvF5qRxWhIh",
        "outputId": "8b0b7a7e-a5f0-4c4d-d0f0-9f988a37d65f"
      },
      "source": [
        "get_residual_sum_of_squares(model_1, train_data[model_1_features], train_data['price'])"
      ],
      "execution_count": 31,
      "outputs": [
        {
          "output_type": "execute_result",
          "data": {
            "text/plain": [
              "967879963049545.8"
            ]
          },
          "metadata": {
            "tags": []
          },
          "execution_count": 31
        }
      ]
    },
    {
      "cell_type": "code",
      "metadata": {
        "colab": {
          "base_uri": "https://localhost:8080/"
        },
        "id": "2gG3iuglW6yl",
        "outputId": "e26f59e5-cd75-4b0f-a9fa-35097cd1eff4"
      },
      "source": [
        "get_residual_sum_of_squares(model_2, train_data[model_2_features], train_data['price'])"
      ],
      "execution_count": 32,
      "outputs": [
        {
          "output_type": "execute_result",
          "data": {
            "text/plain": [
              "958419635074068.8"
            ]
          },
          "metadata": {
            "tags": []
          },
          "execution_count": 32
        }
      ]
    },
    {
      "cell_type": "code",
      "metadata": {
        "colab": {
          "base_uri": "https://localhost:8080/"
        },
        "id": "Po07KF15XPvH",
        "outputId": "c5cd614c-f59a-4d30-896b-52018df10255"
      },
      "source": [
        "get_residual_sum_of_squares(model_3, train_data[model_3_features], train_data['price'])"
      ],
      "execution_count": 33,
      "outputs": [
        {
          "output_type": "execute_result",
          "data": {
            "text/plain": [
              "903436455050478.0"
            ]
          },
          "metadata": {
            "tags": []
          },
          "execution_count": 33
        }
      ]
    },
    {
      "cell_type": "markdown",
      "metadata": {
        "id": "df_1JPbcXa6z"
      },
      "source": [
        "**Quiz Question: Which model (1, 2 or 3) has lowest RSS on TRAINING Data?** Is this what you expected?"
      ]
    },
    {
      "cell_type": "code",
      "metadata": {
        "colab": {
          "base_uri": "https://localhost:8080/"
        },
        "id": "xaxwq9DUXUff",
        "outputId": "980dd5de-84fc-4588-f77a-d06ad917f31c"
      },
      "source": [
        "get_residual_sum_of_squares(model_3, train_data[model_3_features], train_data['price']) < get_residual_sum_of_squares(model_2, train_data[model_2_features], train_data['price'])"
      ],
      "execution_count": 34,
      "outputs": [
        {
          "output_type": "execute_result",
          "data": {
            "text/plain": [
              "True"
            ]
          },
          "metadata": {
            "tags": []
          },
          "execution_count": 34
        }
      ]
    },
    {
      "cell_type": "markdown",
      "metadata": {
        "id": "yQcLipIuXhvR"
      },
      "source": [
        "Now compute the RSS on on TEST data for each of the three models."
      ]
    },
    {
      "cell_type": "code",
      "metadata": {
        "colab": {
          "base_uri": "https://localhost:8080/"
        },
        "id": "bGS_mvpuXgXC",
        "outputId": "374d692b-094f-431d-d427-44b97a1b656a"
      },
      "source": [
        "get_residual_sum_of_squares(model_1, test_data[model_1_features], test_data['price'])"
      ],
      "execution_count": 35,
      "outputs": [
        {
          "output_type": "execute_result",
          "data": {
            "text/plain": [
              "225500469795489.56"
            ]
          },
          "metadata": {
            "tags": []
          },
          "execution_count": 35
        }
      ]
    },
    {
      "cell_type": "code",
      "metadata": {
        "colab": {
          "base_uri": "https://localhost:8080/"
        },
        "id": "ZDMx0zVnXvmA",
        "outputId": "6c9888b4-245d-4f77-df08-7b6e850057b0"
      },
      "source": [
        "get_residual_sum_of_squares(model_2, test_data[model_2_features], test_data['price'])"
      ],
      "execution_count": 36,
      "outputs": [
        {
          "output_type": "execute_result",
          "data": {
            "text/plain": [
              "223377462976467.16"
            ]
          },
          "metadata": {
            "tags": []
          },
          "execution_count": 36
        }
      ]
    },
    {
      "cell_type": "code",
      "metadata": {
        "colab": {
          "base_uri": "https://localhost:8080/"
        },
        "id": "gpUul1klX1xC",
        "outputId": "79450d03-eed2-4a51-c889-76d4ae8c78a1"
      },
      "source": [
        "get_residual_sum_of_squares(model_3, test_data[model_3_features], test_data['price'])"
      ],
      "execution_count": 37,
      "outputs": [
        {
          "output_type": "execute_result",
          "data": {
            "text/plain": [
              "259236319207179.62"
            ]
          },
          "metadata": {
            "tags": []
          },
          "execution_count": 37
        }
      ]
    },
    {
      "cell_type": "markdown",
      "metadata": {
        "id": "S2__DslsYH5q"
      },
      "source": [
        "Quiz Question: Which model (1, 2, or 3) had the lowest RSS on TESTING data?"
      ]
    },
    {
      "cell_type": "code",
      "metadata": {
        "colab": {
          "base_uri": "https://localhost:8080/"
        },
        "id": "m6MuSMeGX4dx",
        "outputId": "3dbbf0f6-c042-4bfa-9439-dea3fd35dca6"
      },
      "source": [
        "get_residual_sum_of_squares(model_3, test_data[model_3_features], test_data['price']) < get_residual_sum_of_squares(model_2, test_data[model_2_features], test_data['price'])"
      ],
      "execution_count": 38,
      "outputs": [
        {
          "output_type": "execute_result",
          "data": {
            "text/plain": [
              "False"
            ]
          },
          "metadata": {
            "tags": []
          },
          "execution_count": 38
        }
      ]
    },
    {
      "cell_type": "code",
      "metadata": {
        "colab": {
          "base_uri": "https://localhost:8080/"
        },
        "id": "PuFqPz6WYOZJ",
        "outputId": "5eae83b9-6cdb-49dc-de21-ff5148a678f8"
      },
      "source": [
        "get_residual_sum_of_squares(model_2, test_data[model_2_features], test_data['price']) < get_residual_sum_of_squares(model_1, test_data[model_1_features], test_data['price'])"
      ],
      "execution_count": 39,
      "outputs": [
        {
          "output_type": "execute_result",
          "data": {
            "text/plain": [
              "True"
            ]
          },
          "metadata": {
            "tags": []
          },
          "execution_count": 39
        }
      ]
    },
    {
      "cell_type": "code",
      "metadata": {
        "id": "b6wQwm_6YTcq"
      },
      "source": [
        ""
      ],
      "execution_count": null,
      "outputs": []
    }
  ]
}