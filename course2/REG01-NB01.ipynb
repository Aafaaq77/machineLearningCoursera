{
  "nbformat": 4,
  "nbformat_minor": 0,
  "metadata": {
    "kernelspec": {
      "name": "python3",
      "display_name": "Python 3"
    },
    "colab": {
      "name": "REG01-NB01.ipynb",
      "provenance": []
    },
    "language_info": {
      "name": "python"
    }
  },
  "cells": [
    {
      "cell_type": "markdown",
      "metadata": {
        "id": "IOHgPOIQ7lSN"
      },
      "source": [
        "# Regression Week 1: Simple Linear Regression"
      ]
    },
    {
      "cell_type": "markdown",
      "metadata": {
        "id": "m2QDGyTj7lSQ"
      },
      "source": [
        "In this notebook we will use data on house sales in King County to predict house prices using simple (one input) linear regression. You will:\n",
        "* Use Turi Create SArray and SFrame functions to compute important summary statistics (instead using Pandas and sklearn)\n",
        "* Write a function to compute the Simple Linear Regression weights using the closed form solution\n",
        "* Write a function to make predictions of the output given the input feature\n",
        "* Turn the regression around to predict the input given the output\n",
        "* Compare two different models for predicting house prices\n",
        "\n"
      ]
    },
    {
      "cell_type": "markdown",
      "metadata": {
        "id": "XRMJdCGzOQc5"
      },
      "source": [
        "### Importing the necessary libraries"
      ]
    },
    {
      "cell_type": "code",
      "metadata": {
        "id": "ikeDwR1U7lSS"
      },
      "source": [
        "import numpy as np\n",
        "import pandas as pd\n",
        "import matplotlib.pyplot as plt\n",
        "import seaborn as sns\n",
        "from sklearn.linear_model import LinearRegression\n",
        "from sklearn.model_selection import train_test_split"
      ],
      "execution_count": 1,
      "outputs": []
    },
    {
      "cell_type": "markdown",
      "metadata": {
        "id": "rSV3M1gY7lST"
      },
      "source": [
        "# Load house sales data\n",
        "\n",
        "Dataset is from house sales in King County, the region where the city of Seattle, WA is located."
      ]
    },
    {
      "cell_type": "code",
      "metadata": {
        "id": "_tBuN93X7lST",
        "outputId": "e3a38036-8739-414f-b2e3-8a7694f67774",
        "colab": {
          "base_uri": "https://localhost:8080/",
          "height": 255
        }
      },
      "source": [
        "dtype_dict = {'bathrooms':float, 'waterfront':int, 'sqft_above':int, \n",
        "              'sqft_living15':float, 'grade':int, 'yr_renovated':int, \n",
        "              'price':float, 'bedrooms':float, 'zipcode':str, 'long':float, \n",
        "              'sqft_lot15':float, 'sqft_living':float, 'floors':str, \n",
        "              'condition':int, 'lat':float, 'date':str, 'sqft_basement':int, \n",
        "              'yr_built':int, 'id':str, 'sqft_lot':int, 'view':int}\n",
        "sales = pd.read_csv('kc_house_data.csv', dtype=dtype_dict, index_col=0)\n",
        "sales.head()"
      ],
      "execution_count": 2,
      "outputs": [
        {
          "output_type": "execute_result",
          "data": {
            "text/html": [
              "<div>\n",
              "<style scoped>\n",
              "    .dataframe tbody tr th:only-of-type {\n",
              "        vertical-align: middle;\n",
              "    }\n",
              "\n",
              "    .dataframe tbody tr th {\n",
              "        vertical-align: top;\n",
              "    }\n",
              "\n",
              "    .dataframe thead th {\n",
              "        text-align: right;\n",
              "    }\n",
              "</style>\n",
              "<table border=\"1\" class=\"dataframe\">\n",
              "  <thead>\n",
              "    <tr style=\"text-align: right;\">\n",
              "      <th></th>\n",
              "      <th>date</th>\n",
              "      <th>price</th>\n",
              "      <th>bedrooms</th>\n",
              "      <th>bathrooms</th>\n",
              "      <th>sqft_living</th>\n",
              "      <th>sqft_lot</th>\n",
              "      <th>floors</th>\n",
              "      <th>waterfront</th>\n",
              "      <th>view</th>\n",
              "      <th>condition</th>\n",
              "      <th>grade</th>\n",
              "      <th>sqft_above</th>\n",
              "      <th>sqft_basement</th>\n",
              "      <th>yr_built</th>\n",
              "      <th>yr_renovated</th>\n",
              "      <th>zipcode</th>\n",
              "      <th>lat</th>\n",
              "      <th>long</th>\n",
              "      <th>sqft_living15</th>\n",
              "      <th>sqft_lot15</th>\n",
              "    </tr>\n",
              "    <tr>\n",
              "      <th>id</th>\n",
              "      <th></th>\n",
              "      <th></th>\n",
              "      <th></th>\n",
              "      <th></th>\n",
              "      <th></th>\n",
              "      <th></th>\n",
              "      <th></th>\n",
              "      <th></th>\n",
              "      <th></th>\n",
              "      <th></th>\n",
              "      <th></th>\n",
              "      <th></th>\n",
              "      <th></th>\n",
              "      <th></th>\n",
              "      <th></th>\n",
              "      <th></th>\n",
              "      <th></th>\n",
              "      <th></th>\n",
              "      <th></th>\n",
              "      <th></th>\n",
              "    </tr>\n",
              "  </thead>\n",
              "  <tbody>\n",
              "    <tr>\n",
              "      <th>7129300520</th>\n",
              "      <td>20141013T000000</td>\n",
              "      <td>221900.0</td>\n",
              "      <td>3.0</td>\n",
              "      <td>1.00</td>\n",
              "      <td>1180.0</td>\n",
              "      <td>5650</td>\n",
              "      <td>1</td>\n",
              "      <td>0</td>\n",
              "      <td>0</td>\n",
              "      <td>3</td>\n",
              "      <td>7</td>\n",
              "      <td>1180</td>\n",
              "      <td>0</td>\n",
              "      <td>1955</td>\n",
              "      <td>0</td>\n",
              "      <td>98178</td>\n",
              "      <td>47.5112</td>\n",
              "      <td>-122.257</td>\n",
              "      <td>1340.0</td>\n",
              "      <td>5650.0</td>\n",
              "    </tr>\n",
              "    <tr>\n",
              "      <th>6414100192</th>\n",
              "      <td>20141209T000000</td>\n",
              "      <td>538000.0</td>\n",
              "      <td>3.0</td>\n",
              "      <td>2.25</td>\n",
              "      <td>2570.0</td>\n",
              "      <td>7242</td>\n",
              "      <td>2</td>\n",
              "      <td>0</td>\n",
              "      <td>0</td>\n",
              "      <td>3</td>\n",
              "      <td>7</td>\n",
              "      <td>2170</td>\n",
              "      <td>400</td>\n",
              "      <td>1951</td>\n",
              "      <td>1991</td>\n",
              "      <td>98125</td>\n",
              "      <td>47.7210</td>\n",
              "      <td>-122.319</td>\n",
              "      <td>1690.0</td>\n",
              "      <td>7639.0</td>\n",
              "    </tr>\n",
              "    <tr>\n",
              "      <th>5631500400</th>\n",
              "      <td>20150225T000000</td>\n",
              "      <td>180000.0</td>\n",
              "      <td>2.0</td>\n",
              "      <td>1.00</td>\n",
              "      <td>770.0</td>\n",
              "      <td>10000</td>\n",
              "      <td>1</td>\n",
              "      <td>0</td>\n",
              "      <td>0</td>\n",
              "      <td>3</td>\n",
              "      <td>6</td>\n",
              "      <td>770</td>\n",
              "      <td>0</td>\n",
              "      <td>1933</td>\n",
              "      <td>0</td>\n",
              "      <td>98028</td>\n",
              "      <td>47.7379</td>\n",
              "      <td>-122.233</td>\n",
              "      <td>2720.0</td>\n",
              "      <td>8062.0</td>\n",
              "    </tr>\n",
              "    <tr>\n",
              "      <th>2487200875</th>\n",
              "      <td>20141209T000000</td>\n",
              "      <td>604000.0</td>\n",
              "      <td>4.0</td>\n",
              "      <td>3.00</td>\n",
              "      <td>1960.0</td>\n",
              "      <td>5000</td>\n",
              "      <td>1</td>\n",
              "      <td>0</td>\n",
              "      <td>0</td>\n",
              "      <td>5</td>\n",
              "      <td>7</td>\n",
              "      <td>1050</td>\n",
              "      <td>910</td>\n",
              "      <td>1965</td>\n",
              "      <td>0</td>\n",
              "      <td>98136</td>\n",
              "      <td>47.5208</td>\n",
              "      <td>-122.393</td>\n",
              "      <td>1360.0</td>\n",
              "      <td>5000.0</td>\n",
              "    </tr>\n",
              "    <tr>\n",
              "      <th>1954400510</th>\n",
              "      <td>20150218T000000</td>\n",
              "      <td>510000.0</td>\n",
              "      <td>3.0</td>\n",
              "      <td>2.00</td>\n",
              "      <td>1680.0</td>\n",
              "      <td>8080</td>\n",
              "      <td>1</td>\n",
              "      <td>0</td>\n",
              "      <td>0</td>\n",
              "      <td>3</td>\n",
              "      <td>8</td>\n",
              "      <td>1680</td>\n",
              "      <td>0</td>\n",
              "      <td>1987</td>\n",
              "      <td>0</td>\n",
              "      <td>98074</td>\n",
              "      <td>47.6168</td>\n",
              "      <td>-122.045</td>\n",
              "      <td>1800.0</td>\n",
              "      <td>7503.0</td>\n",
              "    </tr>\n",
              "  </tbody>\n",
              "</table>\n",
              "</div>"
            ],
            "text/plain": [
              "                       date     price  ...  sqft_living15  sqft_lot15\n",
              "id                                     ...                           \n",
              "7129300520  20141013T000000  221900.0  ...         1340.0      5650.0\n",
              "6414100192  20141209T000000  538000.0  ...         1690.0      7639.0\n",
              "5631500400  20150225T000000  180000.0  ...         2720.0      8062.0\n",
              "2487200875  20141209T000000  604000.0  ...         1360.0      5000.0\n",
              "1954400510  20150218T000000  510000.0  ...         1800.0      7503.0\n",
              "\n",
              "[5 rows x 20 columns]"
            ]
          },
          "metadata": {
            "tags": []
          },
          "execution_count": 2
        }
      ]
    },
    {
      "cell_type": "code",
      "metadata": {
        "id": "kiQm4cBeWbc9",
        "outputId": "8136b5bc-6da7-4d5a-9edb-3720b6a246a0",
        "colab": {
          "base_uri": "https://localhost:8080/"
        }
      },
      "source": [
        "sales.dtypes"
      ],
      "execution_count": 3,
      "outputs": [
        {
          "output_type": "execute_result",
          "data": {
            "text/plain": [
              "date              object\n",
              "price            float64\n",
              "bedrooms         float64\n",
              "bathrooms        float64\n",
              "sqft_living      float64\n",
              "sqft_lot           int64\n",
              "floors            object\n",
              "waterfront         int64\n",
              "view               int64\n",
              "condition          int64\n",
              "grade              int64\n",
              "sqft_above         int64\n",
              "sqft_basement      int64\n",
              "yr_built           int64\n",
              "yr_renovated       int64\n",
              "zipcode           object\n",
              "lat              float64\n",
              "long             float64\n",
              "sqft_living15    float64\n",
              "sqft_lot15       float64\n",
              "dtype: object"
            ]
          },
          "metadata": {
            "tags": []
          },
          "execution_count": 3
        }
      ]
    },
    {
      "cell_type": "markdown",
      "metadata": {
        "id": "2WusMajHmF3X"
      },
      "source": [
        "Relation between living area of house and it's price"
      ]
    },
    {
      "cell_type": "code",
      "metadata": {
        "id": "NewVJlaWlnU0",
        "outputId": "6087c425-2026-4acf-c33e-e778bec80e66",
        "colab": {
          "base_uri": "https://localhost:8080/",
          "height": 476
        }
      },
      "source": [
        "fig, ax = plt.subplots(figsize=(9, 7))\n",
        "sns.scatterplot(ax = ax, data=sales, x='sqft_living', y='price', hue='floors')"
      ],
      "execution_count": 50,
      "outputs": [
        {
          "output_type": "execute_result",
          "data": {
            "text/plain": [
              "<matplotlib.axes._subplots.AxesSubplot at 0x7fa1053915d0>"
            ]
          },
          "metadata": {
            "tags": []
          },
          "execution_count": 50
        },
        {
          "output_type": "display_data",
          "data": {
            "image/png": "[encoded data removed]",
            "text/plain": [
              "<Figure size 648x504 with 1 Axes>"
            ]
          },
          "metadata": {
            "tags": []
          }
        }
      ]
    },
    {
      "cell_type": "markdown",
      "metadata": {
        "id": "rhbgYfVX7lSU"
      },
      "source": [
        "# Split data into training and testing"
      ]
    },
    {
      "cell_type": "markdown",
      "metadata": {
        "id": "V4B5k0bo7lSU"
      },
      "source": [
        "We use seed=0 so that everyone running this notebook gets the same results.  In practice, you may set a random seed (or let Turi Create pick a random seed for you).  "
      ]
    },
    {
      "cell_type": "code",
      "metadata": {
        "id": "2q0y-9nX7lSU",
        "outputId": "bfa0cc46-169c-4375-fb91-6e6ea9bf6cfd",
        "colab": {
          "base_uri": "https://localhost:8080/",
          "height": 255
        }
      },
      "source": [
        "# normally\n",
        "# X_train, X_test, y_train, y_test = train_test_split(X, y, test_size=0.2)\n",
        "# but for the quiz I will be using the training and testing data provided\n",
        "train_data = pd.read_csv('kc_house_train_data.csv', dtype=dtype_dict, index_col=0)\n",
        "train_data.head()"
      ],
      "execution_count": 4,
      "outputs": [
        {
          "output_type": "execute_result",
          "data": {
            "text/html": [
              "<div>\n",
              "<style scoped>\n",
              "    .dataframe tbody tr th:only-of-type {\n",
              "        vertical-align: middle;\n",
              "    }\n",
              "\n",
              "    .dataframe tbody tr th {\n",
              "        vertical-align: top;\n",
              "    }\n",
              "\n",
              "    .dataframe thead th {\n",
              "        text-align: right;\n",
              "    }\n",
              "</style>\n",
              "<table border=\"1\" class=\"dataframe\">\n",
              "  <thead>\n",
              "    <tr style=\"text-align: right;\">\n",
              "      <th></th>\n",
              "      <th>date</th>\n",
              "      <th>price</th>\n",
              "      <th>bedrooms</th>\n",
              "      <th>bathrooms</th>\n",
              "      <th>sqft_living</th>\n",
              "      <th>sqft_lot</th>\n",
              "      <th>floors</th>\n",
              "      <th>waterfront</th>\n",
              "      <th>view</th>\n",
              "      <th>condition</th>\n",
              "      <th>grade</th>\n",
              "      <th>sqft_above</th>\n",
              "      <th>sqft_basement</th>\n",
              "      <th>yr_built</th>\n",
              "      <th>yr_renovated</th>\n",
              "      <th>zipcode</th>\n",
              "      <th>lat</th>\n",
              "      <th>long</th>\n",
              "      <th>sqft_living15</th>\n",
              "      <th>sqft_lot15</th>\n",
              "    </tr>\n",
              "    <tr>\n",
              "      <th>id</th>\n",
              "      <th></th>\n",
              "      <th></th>\n",
              "      <th></th>\n",
              "      <th></th>\n",
              "      <th></th>\n",
              "      <th></th>\n",
              "      <th></th>\n",
              "      <th></th>\n",
              "      <th></th>\n",
              "      <th></th>\n",
              "      <th></th>\n",
              "      <th></th>\n",
              "      <th></th>\n",
              "      <th></th>\n",
              "      <th></th>\n",
              "      <th></th>\n",
              "      <th></th>\n",
              "      <th></th>\n",
              "      <th></th>\n",
              "      <th></th>\n",
              "    </tr>\n",
              "  </thead>\n",
              "  <tbody>\n",
              "    <tr>\n",
              "      <th>7129300520</th>\n",
              "      <td>20141013T000000</td>\n",
              "      <td>221900.0</td>\n",
              "      <td>3.0</td>\n",
              "      <td>1.00</td>\n",
              "      <td>1180.0</td>\n",
              "      <td>5650</td>\n",
              "      <td>1</td>\n",
              "      <td>0</td>\n",
              "      <td>0</td>\n",
              "      <td>3</td>\n",
              "      <td>7</td>\n",
              "      <td>1180</td>\n",
              "      <td>0</td>\n",
              "      <td>1955</td>\n",
              "      <td>0</td>\n",
              "      <td>98178</td>\n",
              "      <td>47.5112</td>\n",
              "      <td>-122.257</td>\n",
              "      <td>1340.0</td>\n",
              "      <td>5650.0</td>\n",
              "    </tr>\n",
              "    <tr>\n",
              "      <th>6414100192</th>\n",
              "      <td>20141209T000000</td>\n",
              "      <td>538000.0</td>\n",
              "      <td>3.0</td>\n",
              "      <td>2.25</td>\n",
              "      <td>2570.0</td>\n",
              "      <td>7242</td>\n",
              "      <td>2</td>\n",
              "      <td>0</td>\n",
              "      <td>0</td>\n",
              "      <td>3</td>\n",
              "      <td>7</td>\n",
              "      <td>2170</td>\n",
              "      <td>400</td>\n",
              "      <td>1951</td>\n",
              "      <td>1991</td>\n",
              "      <td>98125</td>\n",
              "      <td>47.7210</td>\n",
              "      <td>-122.319</td>\n",
              "      <td>1690.0</td>\n",
              "      <td>7639.0</td>\n",
              "    </tr>\n",
              "    <tr>\n",
              "      <th>5631500400</th>\n",
              "      <td>20150225T000000</td>\n",
              "      <td>180000.0</td>\n",
              "      <td>2.0</td>\n",
              "      <td>1.00</td>\n",
              "      <td>770.0</td>\n",
              "      <td>10000</td>\n",
              "      <td>1</td>\n",
              "      <td>0</td>\n",
              "      <td>0</td>\n",
              "      <td>3</td>\n",
              "      <td>6</td>\n",
              "      <td>770</td>\n",
              "      <td>0</td>\n",
              "      <td>1933</td>\n",
              "      <td>0</td>\n",
              "      <td>98028</td>\n",
              "      <td>47.7379</td>\n",
              "      <td>-122.233</td>\n",
              "      <td>2720.0</td>\n",
              "      <td>8062.0</td>\n",
              "    </tr>\n",
              "    <tr>\n",
              "      <th>2487200875</th>\n",
              "      <td>20141209T000000</td>\n",
              "      <td>604000.0</td>\n",
              "      <td>4.0</td>\n",
              "      <td>3.00</td>\n",
              "      <td>1960.0</td>\n",
              "      <td>5000</td>\n",
              "      <td>1</td>\n",
              "      <td>0</td>\n",
              "      <td>0</td>\n",
              "      <td>5</td>\n",
              "      <td>7</td>\n",
              "      <td>1050</td>\n",
              "      <td>910</td>\n",
              "      <td>1965</td>\n",
              "      <td>0</td>\n",
              "      <td>98136</td>\n",
              "      <td>47.5208</td>\n",
              "      <td>-122.393</td>\n",
              "      <td>1360.0</td>\n",
              "      <td>5000.0</td>\n",
              "    </tr>\n",
              "    <tr>\n",
              "      <th>1954400510</th>\n",
              "      <td>20150218T000000</td>\n",
              "      <td>510000.0</td>\n",
              "      <td>3.0</td>\n",
              "      <td>2.00</td>\n",
              "      <td>1680.0</td>\n",
              "      <td>8080</td>\n",
              "      <td>1</td>\n",
              "      <td>0</td>\n",
              "      <td>0</td>\n",
              "      <td>3</td>\n",
              "      <td>8</td>\n",
              "      <td>1680</td>\n",
              "      <td>0</td>\n",
              "      <td>1987</td>\n",
              "      <td>0</td>\n",
              "      <td>98074</td>\n",
              "      <td>47.6168</td>\n",
              "      <td>-122.045</td>\n",
              "      <td>1800.0</td>\n",
              "      <td>7503.0</td>\n",
              "    </tr>\n",
              "  </tbody>\n",
              "</table>\n",
              "</div>"
            ],
            "text/plain": [
              "                       date     price  ...  sqft_living15  sqft_lot15\n",
              "id                                     ...                           \n",
              "7129300520  20141013T000000  221900.0  ...         1340.0      5650.0\n",
              "6414100192  20141209T000000  538000.0  ...         1690.0      7639.0\n",
              "5631500400  20150225T000000  180000.0  ...         2720.0      8062.0\n",
              "2487200875  20141209T000000  604000.0  ...         1360.0      5000.0\n",
              "1954400510  20150218T000000  510000.0  ...         1800.0      7503.0\n",
              "\n",
              "[5 rows x 20 columns]"
            ]
          },
          "metadata": {
            "tags": []
          },
          "execution_count": 4
        }
      ]
    },
    {
      "cell_type": "code",
      "metadata": {
        "id": "mtI3gFJSYZoe",
        "outputId": "11d14e51-2b75-4419-90f7-9ffbe52502a4",
        "colab": {
          "base_uri": "https://localhost:8080/",
          "height": 255
        }
      },
      "source": [
        "test_data = pd.read_csv('kc_house_test_data.csv', dtype=dtype_dict, index_col=0)\n",
        "test_data.head()"
      ],
      "execution_count": 5,
      "outputs": [
        {
          "output_type": "execute_result",
          "data": {
            "text/html": [
              "<div>\n",
              "<style scoped>\n",
              "    .dataframe tbody tr th:only-of-type {\n",
              "        vertical-align: middle;\n",
              "    }\n",
              "\n",
              "    .dataframe tbody tr th {\n",
              "        vertical-align: top;\n",
              "    }\n",
              "\n",
              "    .dataframe thead th {\n",
              "        text-align: right;\n",
              "    }\n",
              "</style>\n",
              "<table border=\"1\" class=\"dataframe\">\n",
              "  <thead>\n",
              "    <tr style=\"text-align: right;\">\n",
              "      <th></th>\n",
              "      <th>date</th>\n",
              "      <th>price</th>\n",
              "      <th>bedrooms</th>\n",
              "      <th>bathrooms</th>\n",
              "      <th>sqft_living</th>\n",
              "      <th>sqft_lot</th>\n",
              "      <th>floors</th>\n",
              "      <th>waterfront</th>\n",
              "      <th>view</th>\n",
              "      <th>condition</th>\n",
              "      <th>grade</th>\n",
              "      <th>sqft_above</th>\n",
              "      <th>sqft_basement</th>\n",
              "      <th>yr_built</th>\n",
              "      <th>yr_renovated</th>\n",
              "      <th>zipcode</th>\n",
              "      <th>lat</th>\n",
              "      <th>long</th>\n",
              "      <th>sqft_living15</th>\n",
              "      <th>sqft_lot15</th>\n",
              "    </tr>\n",
              "    <tr>\n",
              "      <th>id</th>\n",
              "      <th></th>\n",
              "      <th></th>\n",
              "      <th></th>\n",
              "      <th></th>\n",
              "      <th></th>\n",
              "      <th></th>\n",
              "      <th></th>\n",
              "      <th></th>\n",
              "      <th></th>\n",
              "      <th></th>\n",
              "      <th></th>\n",
              "      <th></th>\n",
              "      <th></th>\n",
              "      <th></th>\n",
              "      <th></th>\n",
              "      <th></th>\n",
              "      <th></th>\n",
              "      <th></th>\n",
              "      <th></th>\n",
              "      <th></th>\n",
              "    </tr>\n",
              "  </thead>\n",
              "  <tbody>\n",
              "    <tr>\n",
              "      <th>114101516</th>\n",
              "      <td>20140528T000000</td>\n",
              "      <td>310000.0</td>\n",
              "      <td>3.0</td>\n",
              "      <td>1.0</td>\n",
              "      <td>1430.0</td>\n",
              "      <td>19901</td>\n",
              "      <td>1.5</td>\n",
              "      <td>0</td>\n",
              "      <td>0</td>\n",
              "      <td>4</td>\n",
              "      <td>7</td>\n",
              "      <td>1430</td>\n",
              "      <td>0</td>\n",
              "      <td>1927</td>\n",
              "      <td>0</td>\n",
              "      <td>98028</td>\n",
              "      <td>47.7558</td>\n",
              "      <td>-122.229</td>\n",
              "      <td>1780.0</td>\n",
              "      <td>12697.0</td>\n",
              "    </tr>\n",
              "    <tr>\n",
              "      <th>9297300055</th>\n",
              "      <td>20150124T000000</td>\n",
              "      <td>650000.0</td>\n",
              "      <td>4.0</td>\n",
              "      <td>3.0</td>\n",
              "      <td>2950.0</td>\n",
              "      <td>5000</td>\n",
              "      <td>2</td>\n",
              "      <td>0</td>\n",
              "      <td>3</td>\n",
              "      <td>3</td>\n",
              "      <td>9</td>\n",
              "      <td>1980</td>\n",
              "      <td>970</td>\n",
              "      <td>1979</td>\n",
              "      <td>0</td>\n",
              "      <td>98126</td>\n",
              "      <td>47.5714</td>\n",
              "      <td>-122.375</td>\n",
              "      <td>2140.0</td>\n",
              "      <td>4000.0</td>\n",
              "    </tr>\n",
              "    <tr>\n",
              "      <th>1202000200</th>\n",
              "      <td>20141103T000000</td>\n",
              "      <td>233000.0</td>\n",
              "      <td>3.0</td>\n",
              "      <td>2.0</td>\n",
              "      <td>1710.0</td>\n",
              "      <td>4697</td>\n",
              "      <td>1.5</td>\n",
              "      <td>0</td>\n",
              "      <td>0</td>\n",
              "      <td>5</td>\n",
              "      <td>6</td>\n",
              "      <td>1710</td>\n",
              "      <td>0</td>\n",
              "      <td>1941</td>\n",
              "      <td>0</td>\n",
              "      <td>98002</td>\n",
              "      <td>47.3048</td>\n",
              "      <td>-122.218</td>\n",
              "      <td>1030.0</td>\n",
              "      <td>4705.0</td>\n",
              "    </tr>\n",
              "    <tr>\n",
              "      <th>8562750320</th>\n",
              "      <td>20141110T000000</td>\n",
              "      <td>580500.0</td>\n",
              "      <td>3.0</td>\n",
              "      <td>2.5</td>\n",
              "      <td>2320.0</td>\n",
              "      <td>3980</td>\n",
              "      <td>2</td>\n",
              "      <td>0</td>\n",
              "      <td>0</td>\n",
              "      <td>3</td>\n",
              "      <td>8</td>\n",
              "      <td>2320</td>\n",
              "      <td>0</td>\n",
              "      <td>2003</td>\n",
              "      <td>0</td>\n",
              "      <td>98027</td>\n",
              "      <td>47.5391</td>\n",
              "      <td>-122.070</td>\n",
              "      <td>2580.0</td>\n",
              "      <td>3980.0</td>\n",
              "    </tr>\n",
              "    <tr>\n",
              "      <th>7589200193</th>\n",
              "      <td>20141110T000000</td>\n",
              "      <td>535000.0</td>\n",
              "      <td>3.0</td>\n",
              "      <td>1.0</td>\n",
              "      <td>1090.0</td>\n",
              "      <td>3000</td>\n",
              "      <td>1.5</td>\n",
              "      <td>0</td>\n",
              "      <td>0</td>\n",
              "      <td>4</td>\n",
              "      <td>8</td>\n",
              "      <td>1090</td>\n",
              "      <td>0</td>\n",
              "      <td>1929</td>\n",
              "      <td>0</td>\n",
              "      <td>98117</td>\n",
              "      <td>47.6889</td>\n",
              "      <td>-122.375</td>\n",
              "      <td>1570.0</td>\n",
              "      <td>5080.0</td>\n",
              "    </tr>\n",
              "  </tbody>\n",
              "</table>\n",
              "</div>"
            ],
            "text/plain": [
              "                       date     price  ...  sqft_living15  sqft_lot15\n",
              "id                                     ...                           \n",
              "114101516   20140528T000000  310000.0  ...         1780.0     12697.0\n",
              "9297300055  20150124T000000  650000.0  ...         2140.0      4000.0\n",
              "1202000200  20141103T000000  233000.0  ...         1030.0      4705.0\n",
              "8562750320  20141110T000000  580500.0  ...         2580.0      3980.0\n",
              "7589200193  20141110T000000  535000.0  ...         1570.0      5080.0\n",
              "\n",
              "[5 rows x 20 columns]"
            ]
          },
          "metadata": {
            "tags": []
          },
          "execution_count": 5
        }
      ]
    },
    {
      "cell_type": "markdown",
      "metadata": {
        "id": "W9LJsNGO7lSV"
      },
      "source": [
        "# Useful SFrame summary functions"
      ]
    },
    {
      "cell_type": "markdown",
      "metadata": {
        "id": "vDP_jd697lSV"
      },
      "source": [
        "In order to make use of the closed form solution as well as take advantage of turi create's built in functions we will review some important ones. In particular:\n",
        "* Computing the sum of an SArray\n",
        "* Computing the arithmetic average (mean) of an SArray\n",
        "* multiplying SArrays by constants\n",
        "* multiplying SArrays by other SArrays\n",
        "\n",
        "(*) I will be using pandas instead and not turi create as mentioned in the course"
      ]
    },
    {
      "cell_type": "code",
      "metadata": {
        "id": "c1huAmqr7lSW",
        "outputId": "c5d10e47-9c4e-442a-9442-4ed1bec4fce7",
        "colab": {
          "base_uri": "https://localhost:8080/"
        }
      },
      "source": [
        "# Let's compute the mean of the House Prices in King County in 2 different ways.\n",
        "prices = sales['price'] # extract the price column of the sales SFrame -- this is now a (pd.Series)\n",
        "\n",
        "# recall that the arithmetic average (the mean) is the sum of the prices divided by the total number of houses:\n",
        "sum_prices = prices.sum()\n",
        "num_houses = len(prices)\n",
        "avg_price_1 = sum_prices/num_houses\n",
        "avg_price_2 = prices.mean() # if you just want the average, the .mean() function\n",
        "print(\"average price via method 1: \" + str(avg_price_1))\n",
        "print(\"average price via method 2: \" + str(avg_price_2))"
      ],
      "execution_count": 6,
      "outputs": [
        {
          "output_type": "stream",
          "text": [
            "average price via method 1: 540088.1417665294\n",
            "average price via method 2: 540088.1417665294\n"
          ],
          "name": "stdout"
        }
      ]
    },
    {
      "cell_type": "markdown",
      "metadata": {
        "id": "vSl_H5EM7lSW"
      },
      "source": [
        "As we see we get the same answer both ways"
      ]
    },
    {
      "cell_type": "code",
      "metadata": {
        "id": "wl2kEt0qZ5ll",
        "outputId": "dab87f3a-baa8-4bdd-c07a-f61a3559f079",
        "colab": {
          "base_uri": "https://localhost:8080/"
        }
      },
      "source": [
        "# or\n",
        "sales['price'].mean()"
      ],
      "execution_count": 7,
      "outputs": [
        {
          "output_type": "execute_result",
          "data": {
            "text/plain": [
              "540088.1417665294"
            ]
          },
          "metadata": {
            "tags": []
          },
          "execution_count": 7
        }
      ]
    },
    {
      "cell_type": "code",
      "metadata": {
        "id": "VxXIlK907lSX",
        "outputId": "01460621-02af-4d55-c79e-a90cb7fd44ee",
        "colab": {
          "base_uri": "https://localhost:8080/"
        }
      },
      "source": [
        "# Let's compute the sum of squares of price\n",
        "prices_squared = prices*prices\n",
        "sum_prices_squared = prices_squared.sum()\n",
        "print(f\"the sum of price squared is: {sum_prices_squared}\")"
      ],
      "execution_count": 8,
      "outputs": [
        {
          "output_type": "stream",
          "text": [
            "the sum of price squared is: 9217325138472070.0\n"
          ],
          "name": "stdout"
        }
      ]
    },
    {
      "cell_type": "markdown",
      "metadata": {
        "id": "2i_p8mjt7lSX"
      },
      "source": [
        "Aside: The python notation x.xxe+yy means x.xx \\* 10^(yy). e.g 100 = 10^2 = 1*10^2 = 1e2 "
      ]
    },
    {
      "cell_type": "markdown",
      "metadata": {
        "id": "Gb-LMoPP7lSX"
      },
      "source": [
        "# Build a generic simple linear regression function "
      ]
    },
    {
      "cell_type": "markdown",
      "metadata": {
        "id": "KtYcsOQf7lSY"
      },
      "source": [
        "\n",
        "Complete the following function (or write your own) to compute the simple linear regression slope and intercept:"
      ]
    },
    {
      "cell_type": "markdown",
      "metadata": {
        "id": "aFhYK7o3cGJI"
      },
      "source": [
        "numerator = (mean of X * Y) - (mean of X)*(mean of Y)\n",
        "\n",
        "denominator = (mean of X^2) - (mean of X)*(mean of X)\n",
        "\n",
        "intercept = (mean of Y) - slope * (mean of X)"
      ]
    },
    {
      "cell_type": "code",
      "metadata": {
        "id": "6A3F5GU-7lSY"
      },
      "source": [
        "def simple_linear_regression(input_feature, output):\n",
        "    x_mean = input_feature.mean()\n",
        "    y_mean = output.mean()\n",
        "    x_y_mean = (input_feature * output).mean()\n",
        "    x_square_mean = np.square(input_feature).mean()\n",
        "\n",
        "    slope = (x_y_mean - (x_mean * y_mean)) / (x_square_mean - (x_mean * x_mean))\n",
        "\n",
        "\n",
        "    intercept = y_mean - (slope*x_mean)\n",
        "    return (intercept, slope)"
      ],
      "execution_count": 34,
      "outputs": []
    },
    {
      "cell_type": "markdown",
      "metadata": {
        "id": "DOy-K7mo7lSZ"
      },
      "source": [
        "We can test that our function works by passing it something where we know the answer. In particular we can generate a feature and then put the output exactly on a line: output = 1 + 1\\*input_feature then we know both our slope and intercept should be 1"
      ]
    },
    {
      "cell_type": "code",
      "metadata": {
        "scrolled": true,
        "id": "cch9eziE7lSZ",
        "outputId": "1019eb75-4d44-4291-fc22-cf37b296d1d7",
        "colab": {
          "base_uri": "https://localhost:8080/"
        }
      },
      "source": [
        "test_feature = np.arange(5)\n",
        "test_output = 1 + 1*test_feature\n",
        "(test_intercept, test_slope) =  simple_linear_regression(test_feature, test_output)\n",
        "print(f'Intercept: {test_intercept}')\n",
        "print(f'Slope: {test_slope}')"
      ],
      "execution_count": 36,
      "outputs": [
        {
          "output_type": "stream",
          "text": [
            "Intercept: 1.0\n",
            "Slope: 1.0\n"
          ],
          "name": "stdout"
        }
      ]
    },
    {
      "cell_type": "markdown",
      "metadata": {
        "id": "FZjmDLmU7lSZ"
      },
      "source": [
        "Now that we know it works let's build a regression model for predicting price based on sqft_living. Rembember that we train on train_data!"
      ]
    },
    {
      "cell_type": "code",
      "metadata": {
        "id": "NZKdDn-b7lSa",
        "outputId": "a998361c-ed1e-4334-a2dd-dcbf76fe7c4b",
        "colab": {
          "base_uri": "https://localhost:8080/"
        }
      },
      "source": [
        "sqft_intercept, sqft_slope = simple_linear_regression(train_data['sqft_living'], train_data['price'])\n",
        "\n",
        "print(f\"Intercept:   {sqft_intercept}\")\n",
        "print(f\"Slope:   {sqft_slope}\")"
      ],
      "execution_count": 37,
      "outputs": [
        {
          "output_type": "stream",
          "text": [
            "Intercept:   -47116.07907289488\n",
            "Slope:   281.95883963034294\n"
          ],
          "name": "stdout"
        }
      ]
    },
    {
      "cell_type": "markdown",
      "metadata": {
        "id": "0LDFP4Km7lSb"
      },
      "source": [
        "# Predicting Values"
      ]
    },
    {
      "cell_type": "markdown",
      "metadata": {
        "id": "6QEA70Us7lSc"
      },
      "source": [
        "Now that we have the model parameters: intercept & slope we can make predictions. Using SArrays it's easy to multiply an SArray by a constant and add a constant value. Complete the following function to return the predicted output given the input_feature, slope and intercept:"
      ]
    },
    {
      "cell_type": "code",
      "metadata": {
        "id": "kPvloUAv7lSd"
      },
      "source": [
        "def get_regression_predictions(input_feature, intercept, slope):\n",
        "    # calculate the predicted values:\n",
        "    predicted_values = slope*input_feature + intercept\n",
        "    return predicted_values"
      ],
      "execution_count": 51,
      "outputs": []
    },
    {
      "cell_type": "markdown",
      "metadata": {
        "id": "cGoPNXXM7lSe"
      },
      "source": [
        "Now that we can calculate a prediction given the slope and intercept let's make a prediction. Use (or alter) the following to find out the estimated price for a house with 2650 squarefeet according to the squarefeet model we estiamted above.\n",
        "\n",
        "**Quiz Question: Using your Slope and Intercept from (4), What is the predicted price for a house with 2650 sqft?**"
      ]
    },
    {
      "cell_type": "code",
      "metadata": {
        "id": "yX6eyC9l7lSe",
        "outputId": "518683a6-aa59-44ea-eb74-9ee191efc374",
        "colab": {
          "base_uri": "https://localhost:8080/"
        }
      },
      "source": [
        "my_house_sqft = 2650\n",
        "estimated_price = get_regression_predictions(my_house_sqft, sqft_intercept, sqft_slope)\n",
        "print(f\"The estimated price for a house with {my_house_sqft} squarefeet is {estimated_price:.2f}\")"
      ],
      "execution_count": 53,
      "outputs": [
        {
          "output_type": "stream",
          "text": [
            "The estimated price for a house with 2650 squarefeet is 700074.85\n"
          ],
          "name": "stdout"
        }
      ]
    },
    {
      "cell_type": "markdown",
      "metadata": {
        "id": "JWGG7jZ_7lSf"
      },
      "source": [
        "# Residual Sum of Squares"
      ]
    },
    {
      "cell_type": "markdown",
      "metadata": {
        "id": "UT6IuMHo7lSf"
      },
      "source": [
        "Now that we have a model and can make predictions let's evaluate our model using Residual Sum of Squares (RSS). Recall that RSS is the sum of the squares of the residuals and the residuals is just a fancy word for the difference between the predicted output and the true output. \n",
        "\n",
        "Complete the following (or write your own) function to compute the RSS of a simple linear regression model given the input_feature, output, intercept and slope:"
      ]
    },
    {
      "cell_type": "code",
      "metadata": {
        "id": "UF2XN8hn7lSf"
      },
      "source": [
        "def get_residual_sum_of_squares(input_feature, output, intercept, slope):\n",
        "\n",
        "    predictions = get_regression_predictions(input_feature, intercept, slope)\n",
        "    diff = output - predictions\n",
        "    squared = diff * diff\n",
        "    RSS = squared.sum()\n",
        "\n",
        "    return(RSS)"
      ],
      "execution_count": 54,
      "outputs": []
    },
    {
      "cell_type": "markdown",
      "metadata": {
        "id": "vlur2JL_7lSg"
      },
      "source": [
        "Let's test our get_residual_sum_of_squares function by applying it to the test model where the data lie exactly on a line. Since they lie exactly on a line the residual sum of squares should be zero!"
      ]
    },
    {
      "cell_type": "code",
      "metadata": {
        "id": "E7bdylau7lSg",
        "outputId": "3d75ffbd-99e2-46d2-f1c8-e25974cd4602",
        "colab": {
          "base_uri": "https://localhost:8080/"
        }
      },
      "source": [
        "print(get_residual_sum_of_squares(test_feature, test_output, test_intercept, test_slope))# should be 0.0"
      ],
      "execution_count": 55,
      "outputs": [
        {
          "output_type": "stream",
          "text": [
            "0.0\n"
          ],
          "name": "stdout"
        }
      ]
    },
    {
      "cell_type": "markdown",
      "metadata": {
        "id": "gnZOgTbi7lSh"
      },
      "source": [
        "Now use your function to calculate the RSS on training data from the squarefeet model calculated above.\n",
        "\n",
        "**Quiz Question: According to this function and the slope and intercept from the squarefeet model What is the RSS for the simple linear regression using squarefeet to predict prices on TRAINING data?**"
      ]
    },
    {
      "cell_type": "code",
      "metadata": {
        "id": "wCYWT3u37lSh",
        "outputId": "2a2b0feb-ab71-4ea8-c2c0-886c8ba8d797",
        "colab": {
          "base_uri": "https://localhost:8080/"
        }
      },
      "source": [
        "rss_prices_on_sqft = get_residual_sum_of_squares(train_data['sqft_living'], train_data['price'], sqft_intercept, sqft_slope)\n",
        "print(f'The RSS of predicting Prices based on Square Feet is: {rss_prices_on_sqft}')"
      ],
      "execution_count": 58,
      "outputs": [
        {
          "output_type": "stream",
          "text": [
            "The RSS of predicting Prices based on Square Feet is: 1201918354177283.0\n"
          ],
          "name": "stdout"
        }
      ]
    },
    {
      "cell_type": "markdown",
      "metadata": {
        "id": "86H4cdDP7lSh"
      },
      "source": [
        "# Predict the squarefeet given price"
      ]
    },
    {
      "cell_type": "markdown",
      "metadata": {
        "id": "lLKEjWOS7lSi"
      },
      "source": [
        "What if we want to predict the squarefoot given the price? Since we have an equation y = a + b\\*x we can solve the function for x. So that if we have the intercept (a) and the slope (b) and the price (y) we can solve for the estimated squarefeet (x).\n",
        "\n",
        "Complete the following function to compute the inverse regression estimate, i.e. predict the input_feature given the output."
      ]
    },
    {
      "cell_type": "code",
      "metadata": {
        "id": "4v709Ln77lSi"
      },
      "source": [
        "def inverse_regression_predictions(output, intercept, slope):\n",
        "    \n",
        "    estimated_feature = (output - intercept) / slope\n",
        "    return estimated_feature"
      ],
      "execution_count": 57,
      "outputs": []
    },
    {
      "cell_type": "markdown",
      "metadata": {
        "id": "U4nZBlWB7lSi"
      },
      "source": [
        "Now that we have a function to compute the squarefeet given the price from our simple regression model let's see how big we might expect a house that costs $800,000 to be.\n",
        "\n",
        "**Quiz Question: According to this function and the regression slope and intercept from (3) what is the estimated square-feet for a house costing $800,000?**"
      ]
    },
    {
      "cell_type": "code",
      "metadata": {
        "id": "9Q-Ovyt27lSi",
        "outputId": "05e835f8-ec84-467b-8702-2d1988cc3f0e",
        "colab": {
          "base_uri": "https://localhost:8080/"
        }
      },
      "source": [
        "my_house_price = 800000\n",
        "estimated_squarefeet = inverse_regression_predictions(my_house_price, sqft_intercept, sqft_slope)\n",
        "print(f\"The estimated squarefeet for a house worth {my_house_price:.2f} is {estimated_squarefeet}\")"
      ],
      "execution_count": 59,
      "outputs": [
        {
          "output_type": "stream",
          "text": [
            "The estimated squarefeet for a house worth 800000.00 is 3004.3962451522752\n"
          ],
          "name": "stdout"
        }
      ]
    },
    {
      "cell_type": "markdown",
      "metadata": {
        "id": "M9FMGpYf7lSj"
      },
      "source": [
        "# New Model: estimate prices from bedrooms"
      ]
    },
    {
      "cell_type": "markdown",
      "metadata": {
        "id": "VGJXDRyc7lSj"
      },
      "source": [
        "We have made one model for predicting house prices using squarefeet, but there are many other features in the sales Data. \n",
        "Use your simple linear regression function to estimate the regression parameters from predicting Prices based on number of bedrooms. Use the training data!"
      ]
    },
    {
      "cell_type": "code",
      "metadata": {
        "id": "4CiisCvE7lSj",
        "outputId": "49dc35e7-ba2a-46ec-91e4-d645b1501afe",
        "colab": {
          "base_uri": "https://localhost:8080/"
        }
      },
      "source": [
        "# Estimate the slope and intercept for predicting 'price' based on 'bedrooms'\n",
        "beds_intercept, beds_slope = simple_linear_regression(train_data['bedrooms'], train_data['price'])\n",
        "print(f'Slope: {beds_slope}, intercept: {beds_intercept}')"
      ],
      "execution_count": 60,
      "outputs": [
        {
          "output_type": "stream",
          "text": [
            "Slope: 127588.95293398833, intercept: 109473.17762295791\n"
          ],
          "name": "stdout"
        }
      ]
    },
    {
      "cell_type": "markdown",
      "metadata": {
        "id": "IBBhwaeS7lSk"
      },
      "source": [
        "# Test your Linear Regression Algorithm"
      ]
    },
    {
      "cell_type": "markdown",
      "metadata": {
        "id": "tj9QHGo07lSk"
      },
      "source": [
        "Now we have two models for predicting the price of a house. How do we know which one is better? Calculate the RSS on the TEST data (remember this data wasn't involved in learning the model). Compute the RSS from predicting prices using bedrooms and from predicting prices using squarefeet.\n",
        "\n",
        "**Quiz Question: Which model (square feet or bedrooms) has lowest RSS on TEST data? Think about why this might be the case.**"
      ]
    },
    {
      "cell_type": "code",
      "metadata": {
        "id": "qDs2DAD57lSk",
        "outputId": "18f3c4e9-3067-4b5e-e2e7-ab29c953b9fa",
        "colab": {
          "base_uri": "https://localhost:8080/"
        }
      },
      "source": [
        "# Compute RSS when using bedrooms on TEST data:\n",
        "rss_prices_on_beds = get_residual_sum_of_squares(test_data['bedrooms'], test_data['price'], beds_intercept, beds_slope)\n",
        "print(f'The RSS of predicting Prices based on Square Feet is: {rss_prices_on_beds}')"
      ],
      "execution_count": 61,
      "outputs": [
        {
          "output_type": "stream",
          "text": [
            "The RSS of predicting Prices based on Square Feet is: 493364585960301.0\n"
          ],
          "name": "stdout"
        }
      ]
    },
    {
      "cell_type": "code",
      "metadata": {
        "id": "ZeHhxyEd7lSl",
        "outputId": "42a7a0bd-a568-434e-c757-e0811a3693dc",
        "colab": {
          "base_uri": "https://localhost:8080/"
        }
      },
      "source": [
        "# Compute RSS when using squarefeet on TEST data:\n",
        "rss_prices_on_sqft = get_residual_sum_of_squares(test_data['sqft_living'], test_data['price'], sqft_intercept, sqft_slope)\n",
        "print(f'The RSS of predicting Prices based on Square Feet is: {rss_prices_on_sqft}')"
      ],
      "execution_count": 62,
      "outputs": [
        {
          "output_type": "stream",
          "text": [
            "The RSS of predicting Prices based on Square Feet is: 275402933617812.16\n"
          ],
          "name": "stdout"
        }
      ]
    },
    {
      "cell_type": "code",
      "metadata": {
        "id": "0gAUdsBduA2b",
        "outputId": "b4f04905-7730-4638-9bcc-7574402a6e25",
        "colab": {
          "base_uri": "https://localhost:8080/"
        }
      },
      "source": [
        "rss_prices_on_beds > rss_prices_on_sqft"
      ],
      "execution_count": 63,
      "outputs": [
        {
          "output_type": "execute_result",
          "data": {
            "text/plain": [
              "True"
            ]
          },
          "metadata": {
            "tags": []
          },
          "execution_count": 63
        }
      ]
    },
    {
      "cell_type": "code",
      "metadata": {
        "id": "8AtVvvZbuGuo",
        "outputId": "dd2ec42e-a204-49d3-9434-f00e1bbd4f05",
        "colab": {
          "base_uri": "https://localhost:8080/"
        }
      },
      "source": [
        "rss_prices_on_sqft / test_data.shape[0]"
      ],
      "execution_count": 66,
      "outputs": [
        {
          "output_type": "execute_result",
          "data": {
            "text/plain": [
              "65122471888.8182"
            ]
          },
          "metadata": {
            "tags": []
          },
          "execution_count": 66
        }
      ]
    },
    {
      "cell_type": "code",
      "metadata": {
        "id": "3PuBrKZxwBqX"
      },
      "source": [
        "from sklearn.metrics import mean_squared_error"
      ],
      "execution_count": 67,
      "outputs": []
    },
    {
      "cell_type": "code",
      "metadata": {
        "id": "r8X_V2LSwL-B",
        "outputId": "aa2c9372-9225-4451-e539-62b9463047b6",
        "colab": {
          "base_uri": "https://localhost:8080/"
        }
      },
      "source": [
        "mean_squared_error(test_data['price'], get_regression_predictions(test_data['sqft_living'], sqft_intercept, sqft_slope))"
      ],
      "execution_count": 68,
      "outputs": [
        {
          "output_type": "execute_result",
          "data": {
            "text/plain": [
              "65122471888.8182"
            ]
          },
          "metadata": {
            "tags": []
          },
          "execution_count": 68
        }
      ]
    },
    {
      "cell_type": "markdown",
      "metadata": {
        "id": "zStocSZYymw1"
      },
      "source": [
        "## Comparing with sklearn"
      ]
    },
    {
      "cell_type": "code",
      "metadata": {
        "id": "oK06OeXtws-q",
        "outputId": "1f905cff-d328-496c-b545-eede8278f2a3",
        "colab": {
          "base_uri": "https://localhost:8080/"
        }
      },
      "source": [
        "simple_model = LinearRegression()\n",
        "simple_model.fit(train_data[['sqft_living']], train_data['price'])"
      ],
      "execution_count": 69,
      "outputs": [
        {
          "output_type": "execute_result",
          "data": {
            "text/plain": [
              "LinearRegression(copy_X=True, fit_intercept=True, n_jobs=None, normalize=False)"
            ]
          },
          "metadata": {
            "tags": []
          },
          "execution_count": 69
        }
      ]
    },
    {
      "cell_type": "code",
      "metadata": {
        "id": "fh-XxrZQy4TY"
      },
      "source": [
        "preds = simple_model.predict(test_data[['sqft_living']])"
      ],
      "execution_count": 70,
      "outputs": []
    },
    {
      "cell_type": "code",
      "metadata": {
        "id": "vhQeONBd0WSz",
        "outputId": "2eab9f71-2a84-4337-fbfd-506abe4cbdc9",
        "colab": {
          "base_uri": "https://localhost:8080/"
        }
      },
      "source": [
        "mean_squared_error(test_data['price'], preds)"
      ],
      "execution_count": 71,
      "outputs": [
        {
          "output_type": "execute_result",
          "data": {
            "text/plain": [
              "65122471888.81819"
            ]
          },
          "metadata": {
            "tags": []
          },
          "execution_count": 71
        }
      ]
    },
    {
      "cell_type": "code",
      "metadata": {
        "id": "b9MVxpTV0ePS"
      },
      "source": [
        ""
      ],
      "execution_count": null,
      "outputs": []
    }
  ]
}